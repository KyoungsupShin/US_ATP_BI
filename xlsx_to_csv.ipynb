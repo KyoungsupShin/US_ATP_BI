{
 "cells": [
  {
   "cell_type": "code",
   "execution_count": 2,
   "id": "0c302742-0c6c-4a50-904a-7fc1d49cbc32",
   "metadata": {},
   "outputs": [],
   "source": [
    "import numpy as np\n",
    "import pandas as pd\n",
    "import os\n",
    "import glob"
   ]
  },
  {
   "cell_type": "code",
   "execution_count": 9,
   "id": "7eef716b-4dc0-4105-9a94-49b615cbd069",
   "metadata": {},
   "outputs": [],
   "source": [
    "class ETL_Utils():\n",
    "    def meta_sheet(self, excel_name):\n",
    "        sql = f'''select sheet_list, primary_key, target_columns from meta_sheet_info\n",
    "                where file_name = {excel_name}'''\n",
    "        self.sheet_info = self.fetch_data(sql)\n",
    "\n",
    "    def clean_data(self):\n",
    "        '''\n",
    "            dropnan -> select target columns\n",
    "        '''\n",
    "        pk = self.sheet_info[self.sheet_info == sheet]['primary_key'].values[0]\n",
    "        target_cols = self.sheet_info[self.sheet_info == sheet]['target_columns'].tolist()\n",
    "        \n",
    "        df = df.dropna(subset = pk).reset_index(drop = True)\n",
    "        df = df[target_cols]\n",
    "        return df\n",
    "\n",
    "    def read_excel(self, path):\n",
    "        '''\n",
    "            read excel file -> drop unnamed cols -> select target sheets as dataframe\n",
    "        '''\n",
    "        if path[-4:] == 'xlsb':\n",
    "            df_obj = pd.ExcelFile(path,engine='pyxlsb')\n",
    "        else:\n",
    "            df_obj = pd.ExcelFile(path,engine='openpyxl')\n",
    "\n",
    "        self.df_list = []\n",
    "        self.meta_sheet(path)\n",
    "        \n",
    "        for sheet in self.sheet_info['sheet_list'].tolist():\n",
    "            df = df_obj.parse(sheet_name=sheet)\n",
    "            df = df.loc[:, ~df.columns.str.contains('^Unnamed')]\n",
    "            df = self.clean_data(df)\n",
    "            self.df_list.append(df)"
   ]
  },
  {
   "cell_type": "code",
   "execution_count": null,
   "id": "e9cd77fd-3aa3-4a16-a3ea-ff6fe58972ee",
   "metadata": {},
   "outputs": [],
   "source": [
    "df_list = read_xlsx('./data/HQCA_EAST - OUTBOUND PENDING SHIPMENT REPORT - 1-24.xlsx')"
   ]
  },
  {
   "cell_type": "code",
   "execution_count": null,
   "id": "8cdcec87-1cf8-4cc2-87de-e057eaf44470",
   "metadata": {},
   "outputs": [],
   "source": []
  }
 ],
 "metadata": {
  "kernelspec": {
   "display_name": "Python 3",
   "language": "python",
   "name": "python3"
  },
  "language_info": {
   "codemirror_mode": {
    "name": "ipython",
    "version": 3
   },
   "file_extension": ".py",
   "mimetype": "text/x-python",
   "name": "python",
   "nbconvert_exporter": "python",
   "pygments_lexer": "ipython3",
   "version": "3.6.8"
  }
 },
 "nbformat": 4,
 "nbformat_minor": 5
}
