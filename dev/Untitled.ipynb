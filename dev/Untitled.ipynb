{
 "cells": [
  {
   "cell_type": "code",
   "execution_count": 1,
   "id": "79ba8719",
   "metadata": {},
   "outputs": [],
   "source": [
    "import sys\n",
    "sys.path.append('../utils')\n",
    "from utils import *\n",
    "from sap_sqls import *\n",
    "from ending_onhand import * \n",
    "import datetime\n",
    "import threading\n",
    "import time\n",
    "import pandas as pd\n",
    "\n",
    "\n",
    "eu = Email_Utils()\n",
    "eu.connect_azuredb() # added 9.7.22"
   ]
  },
  {
   "cell_type": "code",
   "execution_count": 2,
   "id": "dca093a2",
   "metadata": {},
   "outputs": [
    {
     "name": "stdout",
     "output_type": "stream",
     "text": [
      "[EVENT] SENT MAIL TO dany.shin@hanwha.com\n"
     ]
    }
   ],
   "source": [
    "\n",
    "eu.send_email('[CRITICAL][ATP] CPO# or item code discrepancies between Outbound and OSR'\n",
    "                ,'ERROR MESSAGE'\n",
    "                ,'''Error: (1) CPO# on Outbound not found on OSR, or/and \n",
    "                    <br> (2) CPO# on Outbound & OSR the same, but item codes different\n",
    "                    <br>Impact: CPO on Outbound (Shipped) and potentially the same CPO on OSR (but in different CPO#) will both be counted  \n",
    "                    <br> (Double counted), thus decreasing future available inventory amount.\n",
    "                    <br> Instructions: Please review the below CPO#s and update to correct CPO# on OSR or Outbound as necessary, as well as correct item codes.''' \n",
    "#                 ,appendix = df.to_html(index=False).replace('<td>', '<td align=\"center\">')\n",
    "#                 ,warning = True\n",
    "                ,excel_name = 'ORDER_STATUS_REPORT'\n",
    "                ,destination ='dany.shin@hanwha.com'\n",
    "                ,critical=True)"
   ]
  },
  {
   "cell_type": "code",
   "execution_count": null,
   "id": "7a08026c",
   "metadata": {},
   "outputs": [],
   "source": []
  },
  {
   "cell_type": "code",
   "execution_count": null,
   "id": "76f07549",
   "metadata": {},
   "outputs": [],
   "source": []
  }
 ],
 "metadata": {
  "kernelspec": {
   "display_name": "Python 3",
   "language": "python",
   "name": "python3"
  },
  "language_info": {
   "codemirror_mode": {
    "name": "ipython",
    "version": 3
   },
   "file_extension": ".py",
   "mimetype": "text/x-python",
   "name": "python",
   "nbconvert_exporter": "python",
   "pygments_lexer": "ipython3",
   "version": "3.6.8"
  }
 },
 "nbformat": 4,
 "nbformat_minor": 5
}
