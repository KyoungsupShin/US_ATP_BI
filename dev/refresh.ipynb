{
 "cells": [
  {
   "cell_type": "code",
   "execution_count": 14,
   "id": "a999c3fb",
   "metadata": {},
   "outputs": [],
   "source": [
    "import requests\n",
    "import msal\n",
    "\n",
    "class Refresh_pbix_web_api():\n",
    "    def __init__(self):\n",
    "        self.username = 'Digital_scm@us.q-cells.com'\n",
    "        self.password = 'USscm123**'\n",
    "        self.app_id = '54d02091-49e9-4bfa-8983-a8d6d61db2c5'\n",
    "        self.tenant_id = '133df886-efe0-411c-a7af-73e5094bbe21'\n",
    "        self.dataset_id = 'e5892459-615a-403f-8e8e-3134a329e044'\n",
    "\n",
    "    def request_access_token(self):\n",
    "        authority_url = 'https://login.microsoftonline.com/' + self.tenant_id\n",
    "        scopes = ['https://analysis.windows.net/powerbi/api/.default']\n",
    "        client = msal.PublicClientApplication(self.app_id, authority=authority_url)\n",
    "        token_response = client.acquire_token_by_username_password(username=self.username, password=self.password, scopes=scopes)\n",
    "        if not 'access_token' in token_response:\n",
    "            raise Exception(token_response['error_description'])\n",
    "        access_id = token_response.get('access_token')\n",
    "        return access_id\n",
    "\n",
    "    def request_refresh(self):\n",
    "        access_id = self.request_access_token()\n",
    "        endpoint = f'https://api.powerbi.com/v1.0/myorg/datasets/{self.dataset_id}/refreshes'\n",
    "        headers = {'Authorization': f'Bearer ' + access_id}\n",
    "        response = requests.post(endpoint, headers=headers)\n",
    "        if response.status_code == 202:\n",
    "            print('Dataset refreshed')\n",
    "        else:\n",
    "            print(response.reason)\n",
    "            print(response.json())\n",
    "    \n"
   ]
  },
  {
   "cell_type": "code",
   "execution_count": 15,
   "id": "5b5d4cc5",
   "metadata": {},
   "outputs": [
    {
     "name": "stdout",
     "output_type": "stream",
     "text": [
      "Dataset refreshed\n"
     ]
    }
   ],
   "source": [
    "        if __name__ == '__main__':\n",
    "            rbwa = Refresh_pbix_web_api()\n",
    "            rbwa.request_refresh()\n"
   ]
  },
  {
   "cell_type": "code",
   "execution_count": null,
   "id": "38a5c32b",
   "metadata": {},
   "outputs": [],
   "source": []
  }
 ],
 "metadata": {
  "kernelspec": {
   "display_name": "Python 3",
   "language": "python",
   "name": "python3"
  },
  "language_info": {
   "codemirror_mode": {
    "name": "ipython",
    "version": 3
   },
   "file_extension": ".py",
   "mimetype": "text/x-python",
   "name": "python",
   "nbconvert_exporter": "python",
   "pygments_lexer": "ipython3",
   "version": "3.6.8"
  }
 },
 "nbformat": 4,
 "nbformat_minor": 5
}
