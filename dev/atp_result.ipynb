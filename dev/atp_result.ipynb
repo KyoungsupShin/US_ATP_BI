{
 "cells": [
  {
   "cell_type": "code",
   "execution_count": 1,
   "id": "1275790f",
   "metadata": {},
   "outputs": [],
   "source": [
    "import sys\n",
    "sys.path.append('../src')\n",
    "sys.path.append('../utils')\n",
    "import time\n",
    "from onhand_sqls import *\n",
    "from email_tools import *\n",
    "from atp_tools import Ending_On_Hand\n",
    "import warnings\n",
    "warnings.filterwarnings(\"ignore\")\n"
   ]
  },
  {
   "cell_type": "code",
   "execution_count": 2,
   "id": "79bf8f43",
   "metadata": {},
   "outputs": [
    {
     "data": {
      "text/plain": [
       "0.017998218536376953"
      ]
     },
     "execution_count": 2,
     "metadata": {},
     "output_type": "execute_result"
    }
   ],
   "source": [
    "t1 = time.time()\n",
    "eoh = Ending_On_Hand()\n",
    "time.time() - t1"
   ]
  },
  {
   "cell_type": "code",
   "execution_count": 3,
   "id": "7fdd1664",
   "metadata": {},
   "outputs": [],
   "source": [
    "def insert_pd_tosql(tablename, df, writer = False): #functional block: insert\n",
    "    if writer == True:\n",
    "        df['Writer'] = writer\n",
    "    quoted = urllib.parse.quote_plus('''\n",
    "                                    DRIVER={ODBC Driver 17 for SQL Server};\n",
    "                                    SERVER=qcells-us-atp-db-server.database.windows.net;\n",
    "                                    DATABASE=us-qcells-atp-db;\n",
    "                                    UID=qcells;\n",
    "                                    Pwd={Asdqwe123!@#}''')\n",
    "    engine = create_engine('mssql+pyodbc:///?odbc_connect={}'.format(quoted),  fast_executemany=True)\n",
    "    print('[EVENT] INSERT INFO: \\n', '\\t TABLE NAME: ', tablename, '\\n', '\\t TABLE COLUMNS ARE BELOW', df.columns)\n",
    "    chucksize = math.floor(2100/len(df.columns)) - 1\n",
    "    df.to_sql(tablename, con=engine, if_exists='append', method='multi', index=False, chunksize=chucksize)\n",
    "    engine.dispose()"
   ]
  },
  {
   "cell_type": "code",
   "execution_count": 4,
   "id": "497dcb9d",
   "metadata": {},
   "outputs": [
    {
     "name": "stdout",
     "output_type": "stream",
     "text": [
      "AZURE DB CONNECTION RE-TRYING NOW COUNT: 0 Times\n",
      "AZURE DB CONNECTION RE-TRYING NOW COUNT: 1 Times\n",
      "115.73361611366272\n"
     ]
    }
   ],
   "source": [
    "t5 = time.time()\n",
    "df_ending_onhand_result_join = eoh.Ending_onhand_main()\n",
    "print(time.time() -t5)"
   ]
  },
  {
   "cell_type": "code",
   "execution_count": 5,
   "id": "f1b7ae27",
   "metadata": {},
   "outputs": [
    {
     "name": "stdout",
     "output_type": "stream",
     "text": [
      "[EVENT] ATP_BI_ENDING_ONHAND HAS ALREADY SAVED TODAY. RPA IS INITIALIZING NOW\n",
      "31.027379512786865\n"
     ]
    }
   ],
   "source": [
    "t6 = time.time()\n",
    "eoh.check_batch_is_updated('ATP_BI_ENDING_ONHAND')\n",
    "print(time.time() -t6)"
   ]
  },
  {
   "cell_type": "code",
   "execution_count": 6,
   "id": "1fd7785e",
   "metadata": {},
   "outputs": [
    {
     "data": {
      "text/plain": [
       "119080"
      ]
     },
     "execution_count": 6,
     "metadata": {},
     "output_type": "execute_result"
    }
   ],
   "source": [
    "len(df_ending_onhand_result_join)"
   ]
  },
  {
   "cell_type": "code",
   "execution_count": 7,
   "id": "a941e055",
   "metadata": {},
   "outputs": [
    {
     "name": "stdout",
     "output_type": "stream",
     "text": [
      "[EVENT] INSERT INFO: \n",
      " \t TABLE NAME:  ATP_BI_ENDING_ONHAND \n",
      " \t TABLE COLUMNS ARE BELOW Index(['WH_Location', 'Item_Code', 'ProductName', 'Power_Class', 'Tariff',\n",
      "       'WestEast', 'Dates', 'CPO_shipped', 'Hard_Allocation', 'Intake',\n",
      "       'ON_HAND', 'Soft_Allocation', 'CW_Type', 'SegmentName', 'YYYY_BI'],\n",
      "      dtype='object')\n",
      "173.4263837337494\n"
     ]
    }
   ],
   "source": [
    "t7 = time.time()\n",
    "insert_pd_tosql('ATP_BI_ENDING_ONHAND', df_ending_onhand_result_join)\n",
    "print(time.time() - t7)"
   ]
  },
  {
   "cell_type": "code",
   "execution_count": 8,
   "id": "afd02421",
   "metadata": {},
   "outputs": [
    {
     "name": "stdout",
     "output_type": "stream",
     "text": [
      "Dataset refreshed\n"
     ]
    }
   ],
   "source": [
    "from pbixapi_tools import * \n",
    "\n",
    "rbwa = Refresh_pbix_web_api()\n",
    "rbwa.request_refresh()"
   ]
  },
  {
   "cell_type": "code",
   "execution_count": 14,
   "id": "ba5f8c30",
   "metadata": {},
   "outputs": [
    {
     "data": {
      "text/html": [
       "<div>\n",
       "<style scoped>\n",
       "    .dataframe tbody tr th:only-of-type {\n",
       "        vertical-align: middle;\n",
       "    }\n",
       "\n",
       "    .dataframe tbody tr th {\n",
       "        vertical-align: top;\n",
       "    }\n",
       "\n",
       "    .dataframe thead th {\n",
       "        text-align: right;\n",
       "    }\n",
       "</style>\n",
       "<table border=\"1\" class=\"dataframe\">\n",
       "  <thead>\n",
       "    <tr style=\"text-align: right;\">\n",
       "      <th></th>\n",
       "      <th>WH_Location</th>\n",
       "      <th>Item_Code</th>\n",
       "      <th>ProductName</th>\n",
       "      <th>Power_Class</th>\n",
       "      <th>Tariff</th>\n",
       "      <th>WestEast</th>\n",
       "      <th>Dates</th>\n",
       "      <th>CPO_shipped</th>\n",
       "      <th>Hard_Allocation</th>\n",
       "      <th>Intake</th>\n",
       "      <th>ON_HAND</th>\n",
       "      <th>Soft_Allocation</th>\n",
       "      <th>CW_Type</th>\n",
       "      <th>SegmentName</th>\n",
       "      <th>YYYY_BI</th>\n",
       "    </tr>\n",
       "  </thead>\n",
       "  <tbody>\n",
       "    <tr>\n",
       "      <th>0</th>\n",
       "      <td>CA_N</td>\n",
       "      <td>99999973H</td>\n",
       "      <td>Q.PEAK DUO BLK ML G10+</td>\n",
       "      <td>400</td>\n",
       "      <td>0.1475</td>\n",
       "      <td>W</td>\n",
       "      <td>2022-09-30</td>\n",
       "      <td>0.0</td>\n",
       "      <td>0.0</td>\n",
       "      <td>0.0</td>\n",
       "      <td>0.0</td>\n",
       "      <td>0.0</td>\n",
       "      <td>Reconsil Period</td>\n",
       "      <td>Residential</td>\n",
       "      <td>2022</td>\n",
       "    </tr>\n",
       "    <tr>\n",
       "      <th>1</th>\n",
       "      <td>CA_N</td>\n",
       "      <td>99999973H</td>\n",
       "      <td>Q.PEAK DUO BLK ML G10+</td>\n",
       "      <td>400</td>\n",
       "      <td>0.1475</td>\n",
       "      <td>W</td>\n",
       "      <td>2022-10-01</td>\n",
       "      <td>0.0</td>\n",
       "      <td>0.0</td>\n",
       "      <td>0.0</td>\n",
       "      <td>0.0</td>\n",
       "      <td>0.0</td>\n",
       "      <td>Reconsil Period</td>\n",
       "      <td>Residential</td>\n",
       "      <td>2022</td>\n",
       "    </tr>\n",
       "    <tr>\n",
       "      <th>2</th>\n",
       "      <td>CA_N</td>\n",
       "      <td>99999973H</td>\n",
       "      <td>Q.PEAK DUO BLK ML G10+</td>\n",
       "      <td>400</td>\n",
       "      <td>0.1475</td>\n",
       "      <td>W</td>\n",
       "      <td>2022-10-02</td>\n",
       "      <td>0.0</td>\n",
       "      <td>0.0</td>\n",
       "      <td>0.0</td>\n",
       "      <td>0.0</td>\n",
       "      <td>0.0</td>\n",
       "      <td>Reconsil Period</td>\n",
       "      <td>Residential</td>\n",
       "      <td>2022</td>\n",
       "    </tr>\n",
       "    <tr>\n",
       "      <th>3</th>\n",
       "      <td>CA_N</td>\n",
       "      <td>99999973H</td>\n",
       "      <td>Q.PEAK DUO BLK ML G10+</td>\n",
       "      <td>400</td>\n",
       "      <td>0.1475</td>\n",
       "      <td>W</td>\n",
       "      <td>2022-10-03</td>\n",
       "      <td>0.0</td>\n",
       "      <td>0.0</td>\n",
       "      <td>0.0</td>\n",
       "      <td>0.0</td>\n",
       "      <td>0.0</td>\n",
       "      <td>Reconsil Period</td>\n",
       "      <td>Residential</td>\n",
       "      <td>2022</td>\n",
       "    </tr>\n",
       "    <tr>\n",
       "      <th>4</th>\n",
       "      <td>CA_N</td>\n",
       "      <td>99999973H</td>\n",
       "      <td>Q.PEAK DUO BLK ML G10+</td>\n",
       "      <td>400</td>\n",
       "      <td>0.1475</td>\n",
       "      <td>W</td>\n",
       "      <td>2022-10-04</td>\n",
       "      <td>0.0</td>\n",
       "      <td>0.0</td>\n",
       "      <td>0.0</td>\n",
       "      <td>0.0</td>\n",
       "      <td>0.0</td>\n",
       "      <td>Reconsil Period</td>\n",
       "      <td>Residential</td>\n",
       "      <td>2022</td>\n",
       "    </tr>\n",
       "    <tr>\n",
       "      <th>...</th>\n",
       "      <td>...</td>\n",
       "      <td>...</td>\n",
       "      <td>...</td>\n",
       "      <td>...</td>\n",
       "      <td>...</td>\n",
       "      <td>...</td>\n",
       "      <td>...</td>\n",
       "      <td>...</td>\n",
       "      <td>...</td>\n",
       "      <td>...</td>\n",
       "      <td>...</td>\n",
       "      <td>...</td>\n",
       "      <td>...</td>\n",
       "      <td>...</td>\n",
       "      <td>...</td>\n",
       "    </tr>\n",
       "    <tr>\n",
       "      <th>120430</th>\n",
       "      <td>GA_N</td>\n",
       "      <td>49409540</td>\n",
       "      <td>T400H</td>\n",
       "      <td>400</td>\n",
       "      <td>0.0000</td>\n",
       "      <td>E</td>\n",
       "      <td>2023-06-11</td>\n",
       "      <td>0.0</td>\n",
       "      <td>0.0</td>\n",
       "      <td>0.0</td>\n",
       "      <td>0.0</td>\n",
       "      <td>0.0</td>\n",
       "      <td>Future Week</td>\n",
       "      <td>Residential</td>\n",
       "      <td>2023</td>\n",
       "    </tr>\n",
       "    <tr>\n",
       "      <th>120431</th>\n",
       "      <td>GA_N</td>\n",
       "      <td>49409540</td>\n",
       "      <td>T400H</td>\n",
       "      <td>400</td>\n",
       "      <td>0.0000</td>\n",
       "      <td>E</td>\n",
       "      <td>2023-06-12</td>\n",
       "      <td>0.0</td>\n",
       "      <td>0.0</td>\n",
       "      <td>0.0</td>\n",
       "      <td>0.0</td>\n",
       "      <td>0.0</td>\n",
       "      <td>Future Week</td>\n",
       "      <td>Residential</td>\n",
       "      <td>2023</td>\n",
       "    </tr>\n",
       "    <tr>\n",
       "      <th>120432</th>\n",
       "      <td>GA_N</td>\n",
       "      <td>49409540</td>\n",
       "      <td>T400H</td>\n",
       "      <td>400</td>\n",
       "      <td>0.0000</td>\n",
       "      <td>E</td>\n",
       "      <td>2023-06-13</td>\n",
       "      <td>0.0</td>\n",
       "      <td>0.0</td>\n",
       "      <td>0.0</td>\n",
       "      <td>0.0</td>\n",
       "      <td>0.0</td>\n",
       "      <td>Future Week</td>\n",
       "      <td>Residential</td>\n",
       "      <td>2023</td>\n",
       "    </tr>\n",
       "    <tr>\n",
       "      <th>120433</th>\n",
       "      <td>GA_N</td>\n",
       "      <td>49409540</td>\n",
       "      <td>T400H</td>\n",
       "      <td>400</td>\n",
       "      <td>0.0000</td>\n",
       "      <td>E</td>\n",
       "      <td>2023-06-14</td>\n",
       "      <td>0.0</td>\n",
       "      <td>0.0</td>\n",
       "      <td>0.0</td>\n",
       "      <td>0.0</td>\n",
       "      <td>0.0</td>\n",
       "      <td>Future Week</td>\n",
       "      <td>Residential</td>\n",
       "      <td>2023</td>\n",
       "    </tr>\n",
       "    <tr>\n",
       "      <th>120434</th>\n",
       "      <td>GA_N</td>\n",
       "      <td>49409540</td>\n",
       "      <td>T400H</td>\n",
       "      <td>400</td>\n",
       "      <td>0.0000</td>\n",
       "      <td>E</td>\n",
       "      <td>2023-06-15</td>\n",
       "      <td>0.0</td>\n",
       "      <td>0.0</td>\n",
       "      <td>0.0</td>\n",
       "      <td>0.0</td>\n",
       "      <td>0.0</td>\n",
       "      <td>Future Week</td>\n",
       "      <td>Residential</td>\n",
       "      <td>2023</td>\n",
       "    </tr>\n",
       "  </tbody>\n",
       "</table>\n",
       "<p>120435 rows × 15 columns</p>\n",
       "</div>"
      ],
      "text/plain": [
       "       WH_Location  Item_Code             ProductName Power_Class  Tariff  \\\n",
       "0             CA_N  99999973H  Q.PEAK DUO BLK ML G10+         400  0.1475   \n",
       "1             CA_N  99999973H  Q.PEAK DUO BLK ML G10+         400  0.1475   \n",
       "2             CA_N  99999973H  Q.PEAK DUO BLK ML G10+         400  0.1475   \n",
       "3             CA_N  99999973H  Q.PEAK DUO BLK ML G10+         400  0.1475   \n",
       "4             CA_N  99999973H  Q.PEAK DUO BLK ML G10+         400  0.1475   \n",
       "...            ...        ...                     ...         ...     ...   \n",
       "120430        GA_N   49409540                   T400H         400  0.0000   \n",
       "120431        GA_N   49409540                   T400H         400  0.0000   \n",
       "120432        GA_N   49409540                   T400H         400  0.0000   \n",
       "120433        GA_N   49409540                   T400H         400  0.0000   \n",
       "120434        GA_N   49409540                   T400H         400  0.0000   \n",
       "\n",
       "       WestEast       Dates  CPO_shipped  Hard_Allocation  Intake  ON_HAND  \\\n",
       "0             W  2022-09-30          0.0              0.0     0.0      0.0   \n",
       "1             W  2022-10-01          0.0              0.0     0.0      0.0   \n",
       "2             W  2022-10-02          0.0              0.0     0.0      0.0   \n",
       "3             W  2022-10-03          0.0              0.0     0.0      0.0   \n",
       "4             W  2022-10-04          0.0              0.0     0.0      0.0   \n",
       "...         ...         ...          ...              ...     ...      ...   \n",
       "120430        E  2023-06-11          0.0              0.0     0.0      0.0   \n",
       "120431        E  2023-06-12          0.0              0.0     0.0      0.0   \n",
       "120432        E  2023-06-13          0.0              0.0     0.0      0.0   \n",
       "120433        E  2023-06-14          0.0              0.0     0.0      0.0   \n",
       "120434        E  2023-06-15          0.0              0.0     0.0      0.0   \n",
       "\n",
       "        Soft_Allocation          CW_Type  SegmentName YYYY_BI  \n",
       "0                   0.0  Reconsil Period  Residential    2022  \n",
       "1                   0.0  Reconsil Period  Residential    2022  \n",
       "2                   0.0  Reconsil Period  Residential    2022  \n",
       "3                   0.0  Reconsil Period  Residential    2022  \n",
       "4                   0.0  Reconsil Period  Residential    2022  \n",
       "...                 ...              ...          ...     ...  \n",
       "120430              0.0      Future Week  Residential    2023  \n",
       "120431              0.0      Future Week  Residential    2023  \n",
       "120432              0.0      Future Week  Residential    2023  \n",
       "120433              0.0      Future Week  Residential    2023  \n",
       "120434              0.0      Future Week  Residential    2023  \n",
       "\n",
       "[120435 rows x 15 columns]"
      ]
     },
     "execution_count": 14,
     "metadata": {},
     "output_type": "execute_result"
    }
   ],
   "source": [
    "df_ending_onhand_result_join"
   ]
  },
  {
   "cell_type": "code",
   "execution_count": null,
   "id": "c6060073",
   "metadata": {},
   "outputs": [],
   "source": []
  }
 ],
 "metadata": {
  "kernelspec": {
   "display_name": "Python 3",
   "language": "python",
   "name": "python3"
  },
  "language_info": {
   "codemirror_mode": {
    "name": "ipython",
    "version": 3
   },
   "file_extension": ".py",
   "mimetype": "text/x-python",
   "name": "python",
   "nbconvert_exporter": "python",
   "pygments_lexer": "ipython3",
   "version": "3.6.8"
  }
 },
 "nbformat": 4,
 "nbformat_minor": 5
}
