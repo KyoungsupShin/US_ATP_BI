{
 "cells": [
  {
   "cell_type": "code",
   "execution_count": null,
   "id": "ed2deb93",
   "metadata": {},
   "outputs": [],
   "source": [
    "sql = '''\n",
    "SELECT \n",
    "\t기준일자 \n",
    "\t, FactoryPO \n",
    "\t, Item_Code \n",
    "\t, PCS\n",
    "from ATP_INBOUND_OVERSEA aio \n",
    "where Unloading_Date is NULL and  DATEDIFF(dd, WH_ETA , [dbo].[dReturnDate](getdate())) >= 2\n",
    "Order by WH_ETA \n",
    "'''"
   ]
  }
 ],
 "metadata": {
  "kernelspec": {
   "display_name": "Python 3",
   "language": "python",
   "name": "python3"
  },
  "language_info": {
   "codemirror_mode": {
    "name": "ipython",
    "version": 3
   },
   "file_extension": ".py",
   "mimetype": "text/x-python",
   "name": "python",
   "nbconvert_exporter": "python",
   "pygments_lexer": "ipython3",
   "version": "3.6.8"
  }
 },
 "nbformat": 4,
 "nbformat_minor": 5
}
