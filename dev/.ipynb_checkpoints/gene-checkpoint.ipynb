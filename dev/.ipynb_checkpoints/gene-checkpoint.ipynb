{
 "cells": [
  {
   "cell_type": "code",
   "execution_count": 2,
   "id": "a28343ff",
   "metadata": {},
   "outputs": [],
   "source": [
    "# current order status\n",
    "# parameters(qty, fee, location etc)\n",
    "# reward : cost of stock, cost of delivery\n",
    "\n",
    "# iteration \n",
    "\n",
    "# minimize cost (maximize reward)"
   ]
  },
  {
   "cell_type": "code",
   "execution_count": null,
   "id": "5bbefae8",
   "metadata": {},
   "outputs": [],
   "source": []
  }
 ],
 "metadata": {
  "kernelspec": {
   "display_name": "Python 3",
   "language": "python",
   "name": "python3"
  },
  "language_info": {
   "codemirror_mode": {
    "name": "ipython",
    "version": 3
   },
   "file_extension": ".py",
   "mimetype": "text/x-python",
   "name": "python",
   "nbconvert_exporter": "python",
   "pygments_lexer": "ipython3",
   "version": "3.6.8"
  }
 },
 "nbformat": 4,
 "nbformat_minor": 5
}
