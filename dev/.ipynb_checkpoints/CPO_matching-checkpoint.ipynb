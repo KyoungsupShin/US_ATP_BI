{
 "cells": [
  {
   "cell_type": "code",
   "execution_count": 53,
   "id": "0926e0da",
   "metadata": {},
   "outputs": [],
   "source": [
    "import sys\n",
    "sys.path.append('../utils/')\n",
    "sys.path.append('../models/')\n",
    "from utils import *\n",
    "from sap_batch import *\n",
    "import glob\n",
    "from datetime import datetime \n",
    "\n",
    "def search(pat, txt): \n",
    "    M = len(pat) \n",
    "    N = len(txt) \n",
    "  \n",
    "    # A loop to slide pat[] one by one */ \n",
    "    for i in range(N - M + 1): \n",
    "        j = 0\n",
    "          \n",
    "        while(j < M): \n",
    "            if (txt[i + j] != pat[j]): \n",
    "                break\n",
    "            j += 1\n",
    "  \n",
    "        if (j == M):  \n",
    "            return i"
   ]
  },
  {
   "cell_type": "code",
   "execution_count": 54,
   "id": "df8bd179",
   "metadata": {},
   "outputs": [],
   "source": [
    "df_3pl = pd.read_csv('./cpo_match.csv').iloc[:,:3]\n",
    "df_osr = pd.read_csv('./cpo_match2.csv').iloc[:,:3]"
   ]
  },
  {
   "cell_type": "code",
   "execution_count": 75,
   "id": "f0f43733",
   "metadata": {},
   "outputs": [],
   "source": [
    "df_3pl['CustomerPO_Num'] = df_3pl['CustomerPO_Num'].astype('str')\n",
    "df_osr['CustomerPO_Num'] = df_osr['CustomerPO_Num'].astype('str')\n",
    "\n",
    "df_3pl_cpo_list = df_3pl[['CustomerPO_Num', 'PCS']].values.tolist()\n",
    "df_osr_cpo_list = df_osr[['CustomerPO_Num', 'PCS']].values.tolist()"
   ]
  },
  {
   "cell_type": "code",
   "execution_count": 83,
   "id": "3e519965",
   "metadata": {},
   "outputs": [
    {
     "name": "stdout",
     "output_type": "stream",
     "text": [
      "1154-JR-900454 1154-JR-900454S 0\n",
      "96999_PT2 096999_PT2 1\n",
      "1875-DN918077S_PT1 1875-DN918077S_PT10 0\n",
      "1875-DN918077S_PT1 1875-DN918077S_PT11 0\n"
     ]
    }
   ],
   "source": [
    "for i, k in df_3pl_cpo_list:\n",
    "    for j, l in df_osr_cpo_list:\n",
    "        if search(i, j) is not None:\n",
    "            if int(k) == int(l):\n",
    "                print(i,j, search(i, j)) "
   ]
  },
  {
   "cell_type": "code",
   "execution_count": null,
   "id": "514e276d",
   "metadata": {},
   "outputs": [],
   "source": []
  }
 ],
 "metadata": {
  "kernelspec": {
   "display_name": "Python 3",
   "language": "python",
   "name": "python3"
  },
  "language_info": {
   "codemirror_mode": {
    "name": "ipython",
    "version": 3
   },
   "file_extension": ".py",
   "mimetype": "text/x-python",
   "name": "python",
   "nbconvert_exporter": "python",
   "pygments_lexer": "ipython3",
   "version": "3.6.8"
  }
 },
 "nbformat": 4,
 "nbformat_minor": 5
}
