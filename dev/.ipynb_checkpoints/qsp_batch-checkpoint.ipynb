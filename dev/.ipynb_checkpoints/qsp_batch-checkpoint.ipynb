{
 "cells": [
  {
   "cell_type": "code",
   "execution_count": 2,
   "id": "18a08f5f",
   "metadata": {},
   "outputs": [],
   "source": [
    "import sys\n",
    "sys.path.append('../utils/')\n",
    "from utils import *\n",
    "from sap_sqls import *\n",
    "import datetime\n",
    "import pandas as pd\n",
    "sys.path.append('../models/')\n",
    "from ending_onhand import *\n",
    "pd.options.display.max_columns = 999\n",
    "pd.options.display.max_rows = 999 "
   ]
  },
  {
   "cell_type": "code",
   "execution_count": 3,
   "id": "be32d401",
   "metadata": {},
   "outputs": [],
   "source": [
    "eoh = Ending_On_Hand()"
   ]
  },
  {
   "cell_type": "code",
   "execution_count": null,
   "id": "74ece8f5",
   "metadata": {},
   "outputs": [],
   "source": [
    "eoh.get_atp_data()\n",
    "df_ending_onhand_result = pd.DataFrame()\n",
    "for eoh.ic in pd.concat([eoh.df_atp['Item_Code'], eoh.df_onhand['Item_Code']]).unique():        \n",
    "    df_union = eoh.get_ending_onhand(eoh.ic)\n",
    "    df_finals = eoh.calculate_ending_onhand(df_union)\n",
    "    df_finals = eoh.reshape_ending_onhand(df_finals)\n",
    "    df_ending_onhand_result = df_ending_onhand_result.append(df_finals)\n",
    "df_ending_onhand_result_join = eoh.join_ending_onhand(df_ending_onhand_result)"
   ]
  },
  {
   "cell_type": "code",
   "execution_count": null,
   "id": "f3b37aa1",
   "metadata": {},
   "outputs": [],
   "source": []
  }
 ],
 "metadata": {
  "kernelspec": {
   "display_name": "Python 3",
   "language": "python",
   "name": "python3"
  },
  "language_info": {
   "codemirror_mode": {
    "name": "ipython",
    "version": 3
   },
   "file_extension": ".py",
   "mimetype": "text/x-python",
   "name": "python",
   "nbconvert_exporter": "python",
   "pygments_lexer": "ipython3",
   "version": "3.6.8"
  }
 },
 "nbformat": 4,
 "nbformat_minor": 5
}
