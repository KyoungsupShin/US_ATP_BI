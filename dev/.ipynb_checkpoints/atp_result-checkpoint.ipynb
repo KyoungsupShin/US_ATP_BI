{
 "cells": [
  {
   "cell_type": "code",
   "execution_count": 1,
   "id": "1275790f",
   "metadata": {},
   "outputs": [],
   "source": [
    "import sys\n",
    "sys.path.append('../src')\n",
    "sys.path.append('../utils')\n",
    "import time\n",
    "from onhand_sqls import *\n",
    "from email_tools import *\n",
    "from atp_tools import Ending_On_Hand\n",
    "import warnings\n",
    "warnings.filterwarnings(\"ignore\")\n"
   ]
  },
  {
   "cell_type": "code",
   "execution_count": 2,
   "id": "46008849",
   "metadata": {},
   "outputs": [
    {
     "data": {
      "text/plain": [
       "0.010997772216796875"
      ]
     },
     "execution_count": 2,
     "metadata": {},
     "output_type": "execute_result"
    }
   ],
   "source": [
    "t1 = time.time()\n",
    "eoh = Ending_On_Hand()\n",
    "time.time() - t1"
   ]
  },
  {
   "cell_type": "code",
   "execution_count": 3,
   "id": "69c5de36",
   "metadata": {},
   "outputs": [
    {
     "name": "stdout",
     "output_type": "stream",
     "text": [
      "33.411877155303955\n"
     ]
    }
   ],
   "source": [
    "t1 = time.time()\n",
    "eoh.df_atp = eoh.fetch_data(sql_atp)\n",
    "print(time.time() - t1)\n",
    "#32sec"
   ]
  },
  {
   "cell_type": "code",
   "execution_count": 4,
   "id": "105e90fe",
   "metadata": {},
   "outputs": [
    {
     "name": "stdout",
     "output_type": "stream",
     "text": [
      "0.010001182556152344\n"
     ]
    }
   ],
   "source": [
    "t2 = time.time()\n",
    "eoh.df_atp = eoh.df_atp.fillna('')\n",
    "print(time.time() - t2)\n",
    "#0sec"
   ]
  },
  {
   "cell_type": "code",
   "execution_count": 18,
   "id": "d738f254",
   "metadata": {},
   "outputs": [
    {
     "name": "stdout",
     "output_type": "stream",
     "text": [
      "0.1530461311340332\n"
     ]
    }
   ],
   "source": [
    "t3 = time.time()\n",
    "eoh.check_batch_is_updated('ATP_HISTORY')\n",
    "print(time.time() - t3)\n",
    "# 4sec"
   ]
  },
  {
   "cell_type": "code",
   "execution_count": 14,
   "id": "1a6655ec",
   "metadata": {},
   "outputs": [],
   "source": [
    "def insert_pd_tosql(tablename, df, writer = False): #functional block: insert\n",
    "    if writer == True:\n",
    "        df['Writer'] = writer\n",
    "    quoted = urllib.parse.quote_plus('''\n",
    "                                    DRIVER={ODBC Driver 17 for SQL Server};\n",
    "                                    SERVER=qcells-us-atp-db-server.database.windows.net;\n",
    "                                    DATABASE=us-qcells-atp-db;\n",
    "                                    UID=qcells;\n",
    "                                    Pwd={Asdqwe123!@#}''')\n",
    "    engine = create_engine('mssql+pyodbc:///?odbc_connect={}'.format(quoted))\n",
    "    print('[EVENT] INSERT INFO: \\n', '\\t TABLE NAME: ', tablename, '\\n', '\\t TABLE COLUMNS ARE BELOW', df.columns)\n",
    "    df.to_sql(tablename, con=engine, if_exists='append', method='multi', index=False, chunksize=120)\n",
    "    engine.dispose()"
   ]
  },
  {
   "cell_type": "code",
   "execution_count": 19,
   "id": "9bad6665",
   "metadata": {},
   "outputs": [
    {
     "name": "stdout",
     "output_type": "stream",
     "text": [
      "[EVENT] INSERT INFO: \n",
      " \t TABLE NAME:  ATP_HISTORY \n",
      " \t TABLE COLUMNS ARE BELOW Index(['Data_Type', '기준일자', '날짜', 'YYYYMM', 'CW', '제품명', 'Item_Code',\n",
      "       'Power_Class', 'WH_Name', 'Tariff', 'WestEast', 'Intake_Shipments_FCST',\n",
      "       'Intake_Shipments_ACTUAL', 'Soft_Allocation', 'Hard_Allocation',\n",
      "       'CPO_shipped', 'PO'],\n",
      "      dtype='object')\n",
      "20.57338857650757\n"
     ]
    }
   ],
   "source": [
    "t4 = time.time()\n",
    "insert_pd_tosql('ATP_HISTORY', eoh.df_atp)\n",
    "print(time.time() - t4)\n",
    "# 48sec -> # 20sec(chunksize=120)"
   ]
  },
  {
   "cell_type": "code",
   "execution_count": null,
   "id": "f66defbe",
   "metadata": {},
   "outputs": [
    {
     "name": "stdout",
     "output_type": "stream",
     "text": [
      "[EVENT] ATP_BI_ENDING_ONHAND HAS ALREADY SAVED TODAY. RPA IS INITIALIZING NOW\n"
     ]
    }
   ],
   "source": [
    "t5 = time.time()\n",
    "df_ending_onhand_result_join = eoh.Ending_onhand_main()\n",
    "print(time.time() -t5)"
   ]
  },
  {
   "cell_type": "code",
   "execution_count": null,
   "id": "b4008338",
   "metadata": {},
   "outputs": [],
   "source": [
    "t6 = time.time()\n",
    "eoh.check_batch_is_updated('ATP_BI_ENDING_ONHAND')\n",
    "print(time.time() -t6)"
   ]
  },
  {
   "cell_type": "code",
   "execution_count": null,
   "id": "0cd58344",
   "metadata": {},
   "outputs": [],
   "source": [
    "t7 = time.time()\n",
    "eoh.insert_pd_tosql('ATP_BI_ENDING_ONHAND', df_ending_onhand_result_join)\n",
    "print(time.time() - t7)"
   ]
  },
  {
   "cell_type": "code",
   "execution_count": null,
   "id": "b1a5534e",
   "metadata": {},
   "outputs": [],
   "source": []
  },
  {
   "cell_type": "code",
   "execution_count": null,
   "id": "6f2d4d48",
   "metadata": {},
   "outputs": [],
   "source": []
  },
  {
   "cell_type": "code",
   "execution_count": null,
   "id": "f1e612a0",
   "metadata": {},
   "outputs": [],
   "source": []
  }
 ],
 "metadata": {
  "kernelspec": {
   "display_name": "Python 3",
   "language": "python",
   "name": "python3"
  },
  "language_info": {
   "codemirror_mode": {
    "name": "ipython",
    "version": 3
   },
   "file_extension": ".py",
   "mimetype": "text/x-python",
   "name": "python",
   "nbconvert_exporter": "python",
   "pygments_lexer": "ipython3",
   "version": "3.6.8"
  }
 },
 "nbformat": 4,
 "nbformat_minor": 5
}
