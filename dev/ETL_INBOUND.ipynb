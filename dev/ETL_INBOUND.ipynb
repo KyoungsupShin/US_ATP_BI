{
 "cells": [
  {
   "cell_type": "code",
   "execution_count": 4,
   "id": "82d515cd",
   "metadata": {},
   "outputs": [],
   "source": [
    "import sys\n",
    "sys.path.append('../utils/')\n",
    "from utils import *\n",
    "\n",
    "eu = ETL_Utils()\n",
    "# eu.meta_sheet_info(excel_name = '')\n",
    "# eu.target_sheet_list = ['Warehouse_inventory_On_Hand_WMS']\n",
    "# eu.read_excel('../data/dummy/onhand_sap.xlsx')"
   ]
  },
  {
   "cell_type": "code",
   "execution_count": null,
   "id": "de6853b3",
   "metadata": {},
   "outputs": [],
   "source": [
    "eu = ETL_Utils()\n",
    "eu.connect_azuredb()\n",
    "sql = '''\n",
    "    SELECT \n",
    "        t1.* \n",
    "    FROM (\n",
    "        SELECT  \n",
    "            *, \n",
    "            ROW_NUMBER () over (partition by Week, FactoryCd, ProductGroup1, ProductGroup2, ProductGroup3, ProductName, SalesEntity , Segment, Month, Updated_Date Order by Updated_Date) AS RN \n",
    "        from ALLOCATION_PLAN\n",
    "        where Updated_Date  =  (select max(Updated_Date) from ALLOCATION_PLAN)\n",
    "    ) as t1\n",
    "    WHERE \n",
    "    t1.RN = 1\n",
    "'''\n",
    "eu.alloc_df = eu.fetch_data(sql)\n",
    "eu.conn.close()"
   ]
  },
  {
   "cell_type": "code",
   "execution_count": 13,
   "id": "d632ad29",
   "metadata": {},
   "outputs": [],
   "source": [
    "import pandas as pd\n",
    "\n",
    "df = pd.read_csv('./Calendar.csv', encoding = 'cp949').dropna(how = 'all', axis = 1)\n",
    "df = df.dropna(how = 'all', axis = 0)"
   ]
  },
  {
   "cell_type": "code",
   "execution_count": 14,
   "id": "7dddb3b3",
   "metadata": {},
   "outputs": [
    {
     "name": "stdout",
     "output_type": "stream",
     "text": [
      "[EVENT] INSERT INFO: \n",
      " \t TABLE NAME:  BI_CALENDAR \n",
      " \t TABLE COLUMNS ARE BELOW ['날짜Key', '년도번호', '년도명', '월번호', '월명', '일번호', '일명', '분기번호', '분기명', '주차번호', '주차명', '요일번호', '요일명', '년중일수', 'S년도월', 'S년도분기', 'S년도분기월', 'S년도주차', '날짜AK1', '월AK1']\n"
     ]
    }
   ],
   "source": [
    "eu = ETL_Utils()\n",
    "eu.insert_dataframe('BI_CALENDAR', df)"
   ]
  },
  {
   "cell_type": "code",
   "execution_count": 12,
   "id": "301f310c",
   "metadata": {},
   "outputs": [],
   "source": [
    "eu.conn.close()"
   ]
  },
  {
   "cell_type": "code",
   "execution_count": 15,
   "id": "2c87dfb3",
   "metadata": {},
   "outputs": [],
   "source": [
    "from sqlalchemy import create_engine\n",
    "engine = create_engine('sqlite://', echo=False)"
   ]
  },
  {
   "cell_type": "code",
   "execution_count": null,
   "id": "3613ba0a",
   "metadata": {},
   "outputs": [],
   "source": []
  }
 ],
 "metadata": {
  "kernelspec": {
   "display_name": "Python 3",
   "language": "python",
   "name": "python3"
  },
  "language_info": {
   "codemirror_mode": {
    "name": "ipython",
    "version": 3
   },
   "file_extension": ".py",
   "mimetype": "text/x-python",
   "name": "python",
   "nbconvert_exporter": "python",
   "pygments_lexer": "ipython3",
   "version": "3.6.8"
  }
 },
 "nbformat": 4,
 "nbformat_minor": 5
}
